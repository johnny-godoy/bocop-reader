{
 "cells": [
  {
   "cell_type": "code",
   "execution_count": 1,
   "id": "296e8fa7-5b9f-4668-b7b1-1a0c95ba5b79",
   "metadata": {
    "execution": {
     "iopub.execute_input": "2022-09-11T02:01:48.370617Z",
     "iopub.status.busy": "2022-09-11T02:01:48.363616Z",
     "iopub.status.idle": "2022-09-11T02:01:50.374069Z",
     "shell.execute_reply": "2022-09-11T02:01:50.374069Z",
     "shell.execute_reply.started": "2022-09-11T02:01:48.370617Z"
    },
    "tags": []
   },
   "outputs": [],
   "source": [
    "import os\n",
    "import sys\n",
    "\n",
    "\n",
    "\n",
    "module_path = os.path.abspath(os.path.join('..'))\n",
    "if module_path not in sys.path:\n",
    "    sys.path.append(module_path)\n",
    "from bocop_solution import BOCOPSolution"
   ]
  },
  {
   "cell_type": "code",
   "execution_count": 2,
   "id": "3d8081c9-8b29-4595-8425-af7132ee1ca0",
   "metadata": {
    "execution": {
     "iopub.execute_input": "2022-09-11T02:01:50.380071Z",
     "iopub.status.busy": "2022-09-11T02:01:50.379071Z",
     "iopub.status.idle": "2022-09-11T02:01:51.941423Z",
     "shell.execute_reply": "2022-09-11T02:01:51.941423Z",
     "shell.execute_reply.started": "2022-09-11T02:01:50.380071Z"
    },
    "tags": []
   },
   "outputs": [],
   "source": [
    "jackson = BOCOPSolution(\"data/jackson\")\n",
    "jackson_basic = BOCOPSolution(\"data/jackson_basic\")\n",
    "harvest = BOCOPSolution(\"data/harvest\")\n",
    "leukemia = BOCOPSolution(\"data/leukemia\")\n",
    "goddard = BOCOPSolution(\"data/goddard\")"
   ]
  },
  {
   "cell_type": "code",
   "execution_count": 4,
   "id": "ed36a687-a0ea-4afe-9b3e-0981a1a850e4",
   "metadata": {
    "execution": {
     "iopub.execute_input": "2022-09-11T02:03:30.358751Z",
     "iopub.status.busy": "2022-09-11T02:03:30.357750Z",
     "iopub.status.idle": "2022-09-11T02:03:30.380756Z",
     "shell.execute_reply": "2022-09-11T02:03:30.379755Z",
     "shell.execute_reply.started": "2022-09-11T02:03:30.358751Z"
    },
    "tags": []
   },
   "outputs": [
    {
     "data": {
      "text/plain": [
       "_States(data/goddard, variables=[_State(mass), _State(position), _State(speed)])"
      ]
     },
     "execution_count": 4,
     "metadata": {},
     "output_type": "execute_result"
    }
   ],
   "source": [
    "goddard.states"
   ]
  },
  {
   "cell_type": "code",
   "execution_count": null,
   "id": "833f62e1-6f6d-428c-a149-52012650a128",
   "metadata": {},
   "outputs": [],
   "source": []
  }
 ],
 "metadata": {
  "kernelspec": {
   "display_name": "Python 3 (ipykernel)",
   "language": "python",
   "name": "python3"
  },
  "language_info": {
   "codemirror_mode": {
    "name": "ipython",
    "version": 3
   },
   "file_extension": ".py",
   "mimetype": "text/x-python",
   "name": "python",
   "nbconvert_exporter": "python",
   "pygments_lexer": "ipython3",
   "version": "3.10.5"
  }
 },
 "nbformat": 4,
 "nbformat_minor": 5
}
