{
 "cells": [
  {
   "cell_type": "code",
   "execution_count": 1,
   "id": "296e8fa7-5b9f-4668-b7b1-1a0c95ba5b79",
   "metadata": {
    "execution": {
     "iopub.execute_input": "2022-09-11T02:01:48.370617Z",
     "iopub.status.busy": "2022-09-11T02:01:48.363616Z",
     "iopub.status.idle": "2022-09-11T02:01:50.374069Z",
     "shell.execute_reply": "2022-09-11T02:01:50.374069Z",
     "shell.execute_reply.started": "2022-09-11T02:01:48.370617Z"
    },
    "tags": []
   },
   "outputs": [],
   "source": [
    "import os\n",
    "import sys\n",
    "\n",
    "\n",
    "\n",
    "module_path = os.path.abspath(os.path.join('..'))\n",
    "if module_path not in sys.path:\n",
    "    sys.path.append(module_path)\n",
    "from bocop_solution import BOCOPSolution"
   ]
  },
  {
   "cell_type": "code",
   "execution_count": 2,
   "id": "3d8081c9-8b29-4595-8425-af7132ee1ca0",
   "metadata": {
    "execution": {
     "iopub.execute_input": "2022-09-11T02:01:50.380071Z",
     "iopub.status.busy": "2022-09-11T02:01:50.379071Z",
     "iopub.status.idle": "2022-09-11T02:01:51.941423Z",
     "shell.execute_reply": "2022-09-11T02:01:51.941423Z",
     "shell.execute_reply.started": "2022-09-11T02:01:50.380071Z"
    },
    "tags": []
   },
   "outputs": [],
   "source": [
    "jackson = BOCOPSolution(\"data/jackson\")\n",
    "jackson_basic = BOCOPSolution(\"data/jackson_basic\")\n",
    "harvest = BOCOPSolution(\"data/harvest\")\n",
    "leukemia = BOCOPSolution(\"data/leukemia\")\n",
    "goddard = BOCOPSolution(\"data/goddard\")"
   ]
  },
  {
   "cell_type": "code",
   "execution_count": 3,
   "id": "ed36a687-a0ea-4afe-9b3e-0981a1a850e4",
   "metadata": {
    "execution": {
     "iopub.execute_input": "2022-09-11T02:02:05.260434Z",
     "iopub.status.busy": "2022-09-11T02:02:05.259433Z",
     "iopub.status.idle": "2022-09-11T02:02:05.315447Z",
     "shell.execute_reply": "2022-09-11T02:02:05.314446Z",
     "shell.execute_reply.started": "2022-09-11T02:02:05.260434Z"
    },
    "tags": []
   },
   "outputs": [
    {
     "data": {
      "text/html": [
       "<div>\n",
       "<style scoped>\n",
       "    .dataframe tbody tr th:only-of-type {\n",
       "        vertical-align: middle;\n",
       "    }\n",
       "\n",
       "    .dataframe tbody tr th {\n",
       "        vertical-align: top;\n",
       "    }\n",
       "\n",
       "    .dataframe thead th {\n",
       "        text-align: right;\n",
       "    }\n",
       "</style>\n",
       "<table border=\"1\" class=\"dataframe\">\n",
       "  <thead>\n",
       "    <tr style=\"text-align: right;\">\n",
       "      <th></th>\n",
       "      <th>mass</th>\n",
       "      <th>position</th>\n",
       "      <th>speed</th>\n",
       "      <th>acceleration_u</th>\n",
       "    </tr>\n",
       "  </thead>\n",
       "  <tbody>\n",
       "    <tr>\n",
       "      <th>0.000000</th>\n",
       "      <td>1.000000</td>\n",
       "      <td>1.00000</td>\n",
       "      <td>4.167740e-38</td>\n",
       "      <td>1.0</td>\n",
       "    </tr>\n",
       "    <tr>\n",
       "      <th>0.001741</th>\n",
       "      <td>0.987811</td>\n",
       "      <td>1.00000</td>\n",
       "      <td>4.387180e-03</td>\n",
       "      <td>1.0</td>\n",
       "    </tr>\n",
       "    <tr>\n",
       "      <th>0.003483</th>\n",
       "      <td>0.975622</td>\n",
       "      <td>1.00002</td>\n",
       "      <td>8.829210e-03</td>\n",
       "      <td>1.0</td>\n",
       "    </tr>\n",
       "    <tr>\n",
       "      <th>0.005224</th>\n",
       "      <td>0.963433</td>\n",
       "      <td>1.00003</td>\n",
       "      <td>1.330590e-02</td>\n",
       "      <td>1.0</td>\n",
       "    </tr>\n",
       "    <tr>\n",
       "      <th>0.006965</th>\n",
       "      <td>0.951244</td>\n",
       "      <td>1.00006</td>\n",
       "      <td>1.779680e-02</td>\n",
       "      <td>1.0</td>\n",
       "    </tr>\n",
       "    <tr>\n",
       "      <th>...</th>\n",
       "      <td>...</td>\n",
       "      <td>...</td>\n",
       "      <td>...</td>\n",
       "      <td>...</td>\n",
       "    </tr>\n",
       "    <tr>\n",
       "      <th>0.167163</th>\n",
       "      <td>0.634131</td>\n",
       "      <td>1.00998</td>\n",
       "      <td>6.833430e-03</td>\n",
       "      <td>0.0</td>\n",
       "    </tr>\n",
       "    <tr>\n",
       "      <th>0.168905</th>\n",
       "      <td>0.634131</td>\n",
       "      <td>1.00999</td>\n",
       "      <td>5.126190e-03</td>\n",
       "      <td>0.0</td>\n",
       "    </tr>\n",
       "    <tr>\n",
       "      <th>0.170646</th>\n",
       "      <td>0.634131</td>\n",
       "      <td>1.00999</td>\n",
       "      <td>3.419080e-03</td>\n",
       "      <td>0.0</td>\n",
       "    </tr>\n",
       "    <tr>\n",
       "      <th>0.172387</th>\n",
       "      <td>0.634131</td>\n",
       "      <td>1.01000</td>\n",
       "      <td>1.712050e-03</td>\n",
       "      <td>0.0</td>\n",
       "    </tr>\n",
       "    <tr>\n",
       "      <th>0.174128</th>\n",
       "      <td>0.634131</td>\n",
       "      <td>1.01000</td>\n",
       "      <td>5.069860e-06</td>\n",
       "      <td>0.0</td>\n",
       "    </tr>\n",
       "  </tbody>\n",
       "</table>\n",
       "<p>101 rows × 4 columns</p>\n",
       "</div>"
      ],
      "text/plain": [
       "              mass  position         speed  acceleration_u\n",
       "0.000000  1.000000   1.00000  4.167740e-38             1.0\n",
       "0.001741  0.987811   1.00000  4.387180e-03             1.0\n",
       "0.003483  0.975622   1.00002  8.829210e-03             1.0\n",
       "0.005224  0.963433   1.00003  1.330590e-02             1.0\n",
       "0.006965  0.951244   1.00006  1.779680e-02             1.0\n",
       "...            ...       ...           ...             ...\n",
       "0.167163  0.634131   1.00998  6.833430e-03             0.0\n",
       "0.168905  0.634131   1.00999  5.126190e-03             0.0\n",
       "0.170646  0.634131   1.00999  3.419080e-03             0.0\n",
       "0.172387  0.634131   1.01000  1.712050e-03             0.0\n",
       "0.174128  0.634131   1.01000  5.069860e-06             0.0\n",
       "\n",
       "[101 rows x 4 columns]"
      ]
     },
     "execution_count": 3,
     "metadata": {},
     "output_type": "execute_result"
    }
   ],
   "source": [
    "goddard.dataframe"
   ]
  },
  {
   "cell_type": "code",
   "execution_count": null,
   "id": "833f62e1-6f6d-428c-a149-52012650a128",
   "metadata": {},
   "outputs": [],
   "source": []
  }
 ],
 "metadata": {
  "kernelspec": {
   "display_name": "Python 3 (ipykernel)",
   "language": "python",
   "name": "python3"
  },
  "language_info": {
   "codemirror_mode": {
    "name": "ipython",
    "version": 3
   },
   "file_extension": ".py",
   "mimetype": "text/x-python",
   "name": "python",
   "nbconvert_exporter": "python",
   "pygments_lexer": "ipython3",
   "version": "3.10.5"
  }
 },
 "nbformat": 4,
 "nbformat_minor": 5
}
